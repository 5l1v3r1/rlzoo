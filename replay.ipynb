{
 "cells": [
  {
   "cell_type": "code",
   "execution_count": 1,
   "metadata": {
    "collapsed": true
   },
   "outputs": [],
   "source": [
    "%matplotlib notebook\n",
    "import matplotlib.pyplot as plt\n",
    "\n",
    "import numpy as np\n",
    "import heapq\n",
    "import gym\n",
    "import tensorflow as tf"
   ]
  },
  {
   "cell_type": "code",
   "execution_count": 2,
   "metadata": {
    "collapsed": false
   },
   "outputs": [
    {
     "name": "stdout",
     "output_type": "stream",
     "text": [
      "[(50, 'a'), (40, 'a'), (30, 'a')]\n",
      "[(50, 'a'), (40, 'a'), (30, 'a')]\n",
      "[(10, 'a'), (10, 'b'), (30, 'a')]\n",
      "(10, 'a') (10, 'b') (30, 'a') (40, 'a') (50, 'a')\n"
     ]
    }
   ],
   "source": [
    "import heapq\n",
    "\n",
    "heap = []\n",
    "\n",
    "# add some values to the heap\n",
    "for value in [(10,'b'), (10,'a'), (30,'a'), (50,'a'), (40,'a')]:\n",
    "    heapq.heappush(heap, value)\n",
    "\n",
    "# pop them off, in order\n",
    "\n",
    "print heapq.nlargest(3, heap)\n",
    "print heapq.nlargest(3, heap)\n",
    "print heapq.nsmallest(3, heap)\n",
    "\n",
    "\n",
    "while heap:\n",
    "    print heapq.heappop(heap),"
   ]
  },
  {
   "cell_type": "code",
   "execution_count": 26,
   "metadata": {
    "collapsed": false
   },
   "outputs": [
    {
     "name": "stdout",
     "output_type": "stream",
     "text": [
      "[2, 'hi', 4, 5]\n"
     ]
    }
   ],
   "source": [
    "a = [1,2,'hi',4,5]\n",
    "print a[1:]"
   ]
  },
  {
   "cell_type": "code",
   "execution_count": 15,
   "metadata": {
    "collapsed": true
   },
   "outputs": [],
   "source": [
    "class Replay():\n",
    "    def __init__(self, epmax):\n",
    "        self.epmax = epmax\n",
    "        self.heap = []\n",
    "        \n",
    "    def add_episode(self, epx, epr, epy):\n",
    "        episode = (np.sum(epr), np.random.rand(), [epx,epr,epy])\n",
    "        if len(self.heap) >= self.epmax:\n",
    "            heapq.heappop(self.heap)\n",
    "        heapq.heappush(self.heap, episode)\n",
    "        \n",
    "    def nlargest(self, n):\n",
    "        assert n <= self.epmax, \"requested number of entries exceeds epmax\"\n",
    "        p = heapq.nlargest(n, replay.heap)\n",
    "        episodes = [q for (_,_,q) in p]\n",
    "        return episodes"
   ]
  },
  {
   "cell_type": "code",
   "execution_count": 19,
   "metadata": {
    "collapsed": false
   },
   "outputs": [
    {
     "name": "stdout",
     "output_type": "stream",
     "text": [
      "[0 1 1 1] [1 0 0 1] 2 [1 0 0 1]\n",
      "[0 1 0 1] [0 0 1 0] 1 [1 1 0 1]\n",
      "[0 0 1 1] [0 0 0 0] 0 [1 0 0 0]\n",
      "[0 1 1 1] [1 0 1 0] 2 [0 1 0 1]\n",
      "[0 1 0 0] [1 0 1 0] 2 [0 1 0 0]\n",
      "[0 1 0 0] [1 1 0 1] 3 [0 0 0 0]\n",
      "[1 1 0 0] [0 1 0 1] 2 [0 1 0 1]\n",
      "[0 1 0 1] [1 1 1 1] 4 [0 1 0 1]\n",
      "[1 0 1 0] [0 0 0 0] 0 [1 1 1 0]\n",
      "[0 0 1 1] [0 1 1 0] 2 [0 1 1 0]\n",
      "[0 0 1 0] [0 0 1 0] 1 [0 0 0 0]\n",
      "[1 1 0 1] [1 1 0 0] 2 [0 0 0 0]\n",
      "[0 0 1 0] [1 1 0 0] 2 [1 1 0 0]\n",
      "[0 1 1 0] [1 1 1 1] 4 [0 1 1 0]\n",
      "[1 0 0 0] [0 1 1 1] 3 [1 0 1 0]\n",
      "[0 1 0 1] [1 1 1 1] 4 [1 0 0 1]\n",
      "[1 0 1 1] [1 0 0 0] 1 [0 0 0 1]\n",
      "[0 1 1 0] [1 1 0 0] 2 [0 1 0 1]\n",
      "[0 1 0 0] [0 1 0 1] 2 [1 1 0 1]\n",
      "[1 1 1 1] [0 0 0 1] 1 [0 1 0 0]\n",
      "[1 0 0 0] [0 1 0 1] 2 [0 1 0 0]\n",
      "[0 0 1 1] [0 1 0 0] 1 [1 0 0 0]\n",
      "[0 1 0 0] [1 0 1 1] 3 [0 1 0 1]\n",
      "[1 1 1 1] [1 0 0 1] 2 [0 1 0 0]\n",
      "[1 1 1 1] [0 0 1 1] 2 [1 0 1 0]\n",
      "[1 1 1 1] [0 0 0 1] 1 [0 1 1 1]\n",
      "[0 0 0 0] [0 1 1 1] 3 [1 0 0 1]\n",
      "[1 0 1 0] [0 1 1 0] 2 [0 1 1 0]\n",
      "[0 1 1 1] [0 1 1 1] 3 [1 0 0 1]\n",
      "[0 0 0 0] [0 1 1 0] 2 [0 1 1 1]\n",
      "[1 1 1 0] [0 1 0 0] 1 [0 1 0 1]\n",
      "[0 1 0 0] [1 0 1 0] 2 [0 1 0 0]\n",
      "[0 1 1 0] [0 1 1 1] 3 [0 0 0 1]\n",
      "[0 1 0 1] [1 0 1 0] 2 [0 1 1 1]\n",
      "[1 0 0 0] [1 0 1 1] 3 [0 1 0 1]\n",
      "[0 0 0 1] [0 0 1 0] 1 [0 0 0 1]\n",
      "[1 1 1 0] [1 1 0 1] 3 [1 1 1 1]\n",
      "[1 1 1 0] [0 1 0 0] 1 [1 1 1 0]\n",
      "[1 1 0 0] [0 0 1 0] 1 [1 0 1 0]\n",
      "[1 1 0 1] [1 1 0 1] 3 [1 1 1 0]\n",
      "[1 0 0 1] [0 0 1 0] 1 [0 0 1 0]\n",
      "[0 0 0 0] [1 0 1 1] 3 [0 0 0 0]\n",
      "[0 0 0 0] [0 0 1 1] 2 [1 0 1 0]\n",
      "[0 0 1 0] [0 0 0 1] 1 [0 0 0 0]\n",
      "[1 0 0 1] [1 1 1 1] 4 [0 1 1 1]\n",
      "[0 1 1 1] [0 1 0 0] 1 [1 0 0 1]\n",
      "[1 1 1 0] [0 0 1 0] 1 [0 0 1 0]\n",
      "[0 1 1 0] [1 0 1 0] 2 [1 1 0 1]\n",
      "[1 1 1 1] [1 0 1 0] 2 [1 1 0 0]\n",
      "[0 1 0 0] [1 1 1 0] 3 [1 1 1 0]\n"
     ]
    }
   ],
   "source": [
    "replay = Replay(15)\n",
    "for i in range(50):\n",
    "    x,r,y = np.random.randint(2, size=4), np.random.randint(2, size=4), np.random.randint(2, size=4)\n",
    "    print x,r,np.sum(r), y\n",
    "    replay.add_episode(x,r,y)"
   ]
  },
  {
   "cell_type": "code",
   "execution_count": 20,
   "metadata": {
    "collapsed": false
   },
   "outputs": [
    {
     "name": "stdout",
     "output_type": "stream",
     "text": [
      "[array([0, 1, 0, 1]), array([1, 1, 1, 1]), array([0, 1, 0, 1])]\n",
      "[array([1, 0, 0, 1]), array([1, 1, 1, 1]), array([0, 1, 1, 1])]\n",
      "[array([0, 1, 0, 1]), array([1, 1, 1, 1]), array([1, 0, 0, 1])]\n",
      "[array([0, 1, 1, 0]), array([1, 1, 1, 1]), array([0, 1, 1, 0])]\n",
      "[array([1, 1, 1, 0]), array([1, 1, 0, 1]), array([1, 1, 1, 1])]\n",
      "[array([0, 1, 0, 0]), array([1, 1, 0, 1]), array([0, 0, 0, 0])]\n",
      "[array([1, 1, 0, 1]), array([1, 1, 0, 1]), array([1, 1, 1, 0])]\n",
      "[array([0, 1, 1, 0]), array([0, 1, 1, 1]), array([0, 0, 0, 1])]\n",
      "[array([0, 0, 0, 0]), array([0, 1, 1, 1]), array([1, 0, 0, 1])]\n",
      "[array([0, 0, 0, 0]), array([1, 0, 1, 1]), array([0, 0, 0, 0])]\n"
     ]
    }
   ],
   "source": [
    "b = replay.nlargest(10)\n",
    "for i in range(len(b)):\n",
    "    print b[i]"
   ]
  },
  {
   "cell_type": "code",
   "execution_count": 38,
   "metadata": {
    "collapsed": false
   },
   "outputs": [
    {
     "name": "stdout",
     "output_type": "stream",
     "text": [
      "[[ 0.43508508  0.48322631  0.62561031]]\n",
      "[[ 0.2336788   0.94921569  0.47469032]]\n",
      "[[ 0.37568049  0.40073135  0.27780821]]\n",
      "[[ 0.43508508  0.48322631  0.62561031]\n",
      " [ 0.2336788   0.94921569  0.47469032]\n",
      " [ 0.37568049  0.40073135  0.27780821]]\n"
     ]
    }
   ],
   "source": [
    "a = []\n",
    "for i in range(3):\n",
    "    a.append(np.random.rand(1,3))\n",
    "    print a[i]\n",
    "    \n",
    "print np.vstack(a)"
   ]
  },
  {
   "cell_type": "code",
   "execution_count": null,
   "metadata": {
    "collapsed": true
   },
   "outputs": [],
   "source": []
  }
 ],
 "metadata": {
  "kernelspec": {
   "display_name": "Python 2",
   "language": "python",
   "name": "python2"
  },
  "language_info": {
   "codemirror_mode": {
    "name": "ipython",
    "version": 2
   },
   "file_extension": ".py",
   "mimetype": "text/x-python",
   "name": "python",
   "nbconvert_exporter": "python",
   "pygments_lexer": "ipython2",
   "version": "2.7.10"
  }
 },
 "nbformat": 4,
 "nbformat_minor": 1
}
