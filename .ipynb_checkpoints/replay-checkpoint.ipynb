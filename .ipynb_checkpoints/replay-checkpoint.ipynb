{
 "cells": [
  {
   "cell_type": "code",
   "execution_count": 1,
   "metadata": {
    "collapsed": true
   },
   "outputs": [],
   "source": [
    "%matplotlib notebook\n",
    "import matplotlib.pyplot as plt\n",
    "\n",
    "import numpy as np\n",
    "import heapq\n",
    "import gym\n",
    "import tensorflow as tf"
   ]
  },
  {
   "cell_type": "code",
   "execution_count": 2,
   "metadata": {
    "collapsed": false
   },
   "outputs": [
    {
     "name": "stdout",
     "output_type": "stream",
     "text": [
      "[(50, 'a'), (40, 'a'), (30, 'a')]\n",
      "[(50, 'a'), (40, 'a'), (30, 'a')]\n",
      "[(10, 'a'), (10, 'b'), (30, 'a')]\n",
      "(10, 'a') (10, 'b') (30, 'a') (40, 'a') (50, 'a')\n"
     ]
    }
   ],
   "source": [
    "import heapq\n",
    "\n",
    "heap = []\n",
    "\n",
    "# add some values to the heap\n",
    "for value in [(10,'b'), (10,'a'), (30,'a'), (50,'a'), (40,'a')]:\n",
    "    heapq.heappush(heap, value)\n",
    "\n",
    "# pop them off, in order\n",
    "\n",
    "print heapq.nlargest(3, heap)\n",
    "print heapq.nlargest(3, heap)\n",
    "print heapq.nsmallest(3, heap)\n",
    "\n",
    "\n",
    "while heap:\n",
    "    print heapq.heappop(heap),"
   ]
  },
  {
   "cell_type": "code",
   "execution_count": 6,
   "metadata": {
    "collapsed": true
   },
   "outputs": [],
   "source": [
    "class Replay():\n",
    "    def __init__(self, epmax):\n",
    "        self.epmax = epmax\n",
    "        self.heap = []\n",
    "        \n",
    "    def add_episode(self, epx, epr, epy):\n",
    "        episode = (np.sum(epr), np.random.rand(), [epx,epr,epy])\n",
    "        print len(self.heap)\n",
    "        if len(self.heap) >= self.epmax:\n",
    "            heapq.heappop(self.heap)\n",
    "        heapq.heappush(self.heap, episode)\n",
    "        \n",
    "    def nlargest(self, n):\n",
    "        assert n <= self.epmax, \"requested number of entries exceeds epmax\"\n",
    "        p = heapq.nlargest(n, replay.heap)\n",
    "        episodes = [q for (_,_,q) in p]\n",
    "        return episodes"
   ]
  },
  {
   "cell_type": "code",
   "execution_count": 7,
   "metadata": {
    "collapsed": false
   },
   "outputs": [
    {
     "name": "stdout",
     "output_type": "stream",
     "text": [
      "[1 0 0 1] [1 0 1 1] 3 [0 0 1 1]\n",
      "0\n",
      "[1 1 1 0] [1 1 0 0] 2 [1 1 0 1]\n",
      "1\n",
      "[0 0 1 1] [1 1 1 0] 3 [1 0 0 1]\n",
      "2\n",
      "[0 0 1 0] [0 0 0 0] 0 [0 0 0 1]\n",
      "3\n",
      "[0 0 1 1] [0 1 0 1] 2 [0 1 0 0]\n",
      "4\n",
      "[0 0 1 1] [1 1 1 1] 4 [0 1 0 1]\n",
      "4\n",
      "[0 0 1 1] [1 1 0 0] 2 [0 0 1 0]\n",
      "4\n",
      "[0 1 1 1] [1 1 1 1] 4 [1 0 1 1]\n",
      "4\n"
     ]
    }
   ],
   "source": [
    "replay = Replay(4)\n",
    "for i in range(8):\n",
    "    x,r,y = np.random.randint(2, size=4), np.random.randint(2, size=4), np.random.randint(2, size=4)\n",
    "    print x,r,np.sum(r), y\n",
    "    replay.add_episode(x,r,y)"
   ]
  },
  {
   "cell_type": "code",
   "execution_count": 8,
   "metadata": {
    "collapsed": false
   },
   "outputs": [
    {
     "name": "stdout",
     "output_type": "stream",
     "text": [
      "[(4, 0.781347310211602, [array([0, 1, 1, 1]), array([1, 1, 1, 1]), array([1, 0, 1, 1])]), (4, 0.02971647728508342, [array([0, 0, 1, 1]), array([1, 1, 1, 1]), array([0, 1, 0, 1])]), (3, 0.9754419940426959, [array([0, 0, 1, 1]), array([1, 1, 1, 0]), array([1, 0, 0, 1])])]\n",
      "[array([0, 1, 1, 1]), array([1, 1, 1, 1]), array([1, 0, 1, 1])]\n",
      "[array([0, 0, 1, 1]), array([1, 1, 1, 1]), array([0, 1, 0, 1])]\n",
      "[array([0, 0, 1, 1]), array([1, 1, 1, 0]), array([1, 0, 0, 1])]\n"
     ]
    }
   ],
   "source": [
    "# print replay.nlargest(3)\n",
    "a = heapq.nlargest(3, replay.heap)\n",
    "print a\n",
    "b = [c for (a,b,c) in a]\n",
    "for i in range(len(b)):\n",
    "    print b[i]"
   ]
  },
  {
   "cell_type": "code",
   "execution_count": null,
   "metadata": {
    "collapsed": true
   },
   "outputs": [],
   "source": []
  }
 ],
 "metadata": {
  "kernelspec": {
   "display_name": "Python 2",
   "language": "python",
   "name": "python2"
  },
  "language_info": {
   "codemirror_mode": {
    "name": "ipython",
    "version": 2
   },
   "file_extension": ".py",
   "mimetype": "text/x-python",
   "name": "python",
   "nbconvert_exporter": "python",
   "pygments_lexer": "ipython2",
   "version": "2.7.10"
  }
 },
 "nbformat": 4,
 "nbformat_minor": 1
}
